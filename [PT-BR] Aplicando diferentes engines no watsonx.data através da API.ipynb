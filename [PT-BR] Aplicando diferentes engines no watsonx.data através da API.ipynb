{
 "cells": [
  {
   "cell_type": "markdown",
   "metadata": {},
   "source": [
    "<a id=\"summ\"></a>\n",
    "## Aplicando diferentes engines no watsonx.data através via watsonx.ai"
   ]
  },
  {
   "cell_type": "markdown",
   "metadata": {},
   "source": [
    "Instalação das bibliotecas necessárias"
   ]
  },
  {
   "cell_type": "code",
   "execution_count": null,
   "metadata": {},
   "outputs": [],
   "source": [
    "! pip install presto-python-client | tail -1"
   ]
  },
  {
   "cell_type": "code",
   "execution_count": null,
   "metadata": {},
   "outputs": [],
   "source": [
    "import prestodb\n",
    "import pandas as pd"
   ]
  },
  {
   "cell_type": "markdown",
   "metadata": {},
   "source": [
    "## Conexão"
   ]
  },
  {
   "cell_type": "markdown",
   "metadata": {},
   "source": [
    "### Configuração das credenciais\n",
    "\n",
    "Todas as credencias definidas nas próximas células podem ser capturadas dentro do watsonx.data selecionando a engine desejada e no Cloud Object Storage de origem, dentro de Service Credentials.\n",
    "\n",
    "Esta célula define as credenciais para acessar o watsonx.data. As credenciais incluem:\n",
    "\n",
    "- wxd_hms_endpoint: o endpoint do serviço watsonx.data\n",
    "\n",
    "- wxd_hms_username: o nome de usuário para acessar o watsonx.data\n",
    "\n",
    "- wxd_hms_password: a senha para acessar o watsonx.data\n",
    "\n",
    "- source_bucket_endpoint: o endpoint do bucket de armazenamento de dados\n",
    "\n",
    "- source_bucket_access_key: a chave de acesso para o bucket de armazenamento de dados\n",
    "\n",
    "- source_bucket_secret_key: a chave secreta para o bucket de armazenamento de dados"
   ]
  },
  {
   "cell_type": "code",
   "execution_count": null,
   "metadata": {},
   "outputs": [],
   "source": [
    "wxd_presto_java_host = \"abcde123-ab12-3456-a78b-ab123c45de6f.abcdefgh0ij2kl3nopq4.lakehouse.appdomain.cloud\"\n",
    "wxd_presto_java_port = 12345\n",
    "wxd_presto_username = wxd_hms_username\n",
    "wxd_presto_password = wxd_hms_password"
   ]
  },
  {
   "cell_type": "markdown",
   "metadata": {},
   "source": [
    "Esta célula estabelece uma conexão com o Presto Java utilizando a biblioteca prestodb.dbapi.\n",
    "Os parâmetros utilizados são:\n",
    "- host: o endereço do host do Presto Java\n",
    "\n",
    "- port: a porta utilizada pelo Presto Java\n",
    "\n",
    "- user: o nome de usuário para autenticação\n",
    "\n",
    "- catalog: o catálogo de dados a ser utilizado\n",
    "\n",
    "- http_scheme: o esquema de protocolo HTTP a ser utilizado (neste caso, https)\n",
    "\n",
    "- auth: a autenticação a ser utilizada (neste caso, autenticação básica com nome de usuário e senha)"
   ]
  },
  {
   "cell_type": "code",
   "execution_count": null,
   "metadata": {},
   "outputs": [],
   "source": [
    "conn_prestojava =prestodb.dbapi.connect(\n",
    "    host=wxd_presto_java_host,\n",
    "    port=wxd_presto_java_port,\n",
    "    user='ibmlhapikey',\n",
    "    catalog='catalogo_destino',\n",
    "    http_scheme='https',\n",
    "    auth=prestodb.auth.BasicAuthentication('ibmlhapikey',wxd_presto_password)\n",
    ")"
   ]
  },
  {
   "cell_type": "markdown",
   "metadata": {},
   "source": [
    "Nesta célula, vamos executar uma consulta no Presto Java para recuperar os dados da tabela \"cadastro\" no catálogo \"teste_silver\".\n",
    "\n",
    "A consulta será executada utilizando a função read_sql_query da biblioteca pandas e o resultado será armazenado no dataframe df_presto_java.\n",
    "\n",
    "Além disso, vamos medir o tempo de execução da consulta para avaliar o desempenho do Presto Java."
   ]
  },
  {
   "cell_type": "code",
   "execution_count": null,
   "metadata": {},
   "outputs": [],
   "source": [
    "start_time = time.time()\n",
    "\n",
    "df_presto_java = pd.read_sql_query(\"\"\"\n",
    "SELECT \n",
    "  *\n",
    "FROM\n",
    "  teste_silver.cadastro\n",
    "\"\"\", conn_prestojava)\n",
    "\n",
    "time_presto_java = time.time() - start_time\n",
    "\n",
    "df_presto_java.head()"
   ]
  },
  {
   "cell_type": "markdown",
   "metadata": {},
   "source": [
    "# Utilizando o Presto C++"
   ]
  },
  {
   "cell_type": "markdown",
   "metadata": {},
   "source": [
    "Esta célula estabelece uma conexão com o Presto C++ utilizando a biblioteca prestodb.dbapi.\n",
    "Os parâmetros utilizados são:\n",
    "- host: o endereço do host do Presto C++\n",
    "\n",
    "- port: a porta utilizada pelo Presto C++\n",
    "\n",
    "- user: o nome de usuário para autenticação\n",
    "\n",
    "- catalog: o catálogo de dados a ser utilizado\n",
    "\n",
    "- http_scheme: o esquema de protocolo HTTP a ser utilizado (neste caso, https)\n",
    "\n",
    "- auth: a autenticação a ser utilizada (neste caso, autenticação básica com nome de usuário e senha)"
   ]
  },
  {
   "cell_type": "code",
   "execution_count": null,
   "metadata": {},
   "outputs": [],
   "source": [
    "wxd_presto_cpp_host = \"abcde123-ab12-3456-a78b-ab123c45de6f.abcdefgh0ij2kl3nopq4.lakehouse.appdomain.cloud\"\n",
    "wxd_presto_cpp_port = 12345"
   ]
  },
  {
   "cell_type": "markdown",
   "metadata": {},
   "source": [
    "De forma similar com a conexão do Presto Java, passamos as credenciais correspondentes ao Presto C++ para realizar a conexão."
   ]
  },
  {
   "cell_type": "code",
   "execution_count": null,
   "metadata": {},
   "outputs": [],
   "source": [
    "conn_prestocpp =prestodb.dbapi.connect(\n",
    "    host=wxd_presto_cpp_host,\n",
    "    port=wxd_presto_cpp_port,\n",
    "    user='ibmlhapikey',\n",
    "    catalog='catalogo_destino',\n",
    "    http_scheme='https',\n",
    "    auth=prestodb.auth.BasicAuthentication('ibmlhapikey',wxd_presto_password)\n",
    ")"
   ]
  },
  {
   "cell_type": "markdown",
   "metadata": {},
   "source": [
    "Na célula abaixo, estamos executando uma consulta em Presto C++ para recuperar dados do lakehouse e medindo o tempo de execução da consulta."
   ]
  },
  {
   "cell_type": "code",
   "execution_count": null,
   "metadata": {},
   "outputs": [],
   "source": [
    "start_time = time.time()\n",
    "\n",
    "df_presto_c = pd.read_sql_query(\"\"\"\n",
    "SELECT \n",
    "  *\n",
    "FROM\n",
    "  teste_silver.cadastro\n",
    "\"\"\", conn_prestocpp)\n",
    "\n",
    "time_presto_c = time.time() - start_time\n",
    "\n",
    "df_presto_c.head()"
   ]
  }
 ],
 "metadata": {
  "language_info": {
   "name": "python"
  }
 },
 "nbformat": 4,
 "nbformat_minor": 2
}
