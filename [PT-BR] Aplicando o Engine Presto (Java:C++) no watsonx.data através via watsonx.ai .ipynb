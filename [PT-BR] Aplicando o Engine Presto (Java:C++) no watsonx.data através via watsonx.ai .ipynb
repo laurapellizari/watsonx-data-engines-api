{
 "cells": [
  {
   "cell_type": "markdown",
   "metadata": {},
   "source": [
    "<a id=\"summ\"></a>\n",
    "## Aplicando o Engine Presto (Java/C++) no watsonx.data através via watsonx.ai"
   ]
  },
  {
   "cell_type": "markdown",
   "metadata": {},
   "source": [
    "Instalação das bibliotecas necessárias"
   ]
  },
  {
   "cell_type": "code",
   "execution_count": null,
   "metadata": {},
   "outputs": [],
   "source": [
    "! pip install presto-python-client | tail -1"
   ]
  },
  {
   "cell_type": "code",
   "execution_count": null,
   "metadata": {},
   "outputs": [],
   "source": [
    "import prestodb\n",
    "import pandas as pd"
   ]
  },
  {
   "cell_type": "markdown",
   "metadata": {},
   "source": [
    "## Conexão"
   ]
  },
  {
   "cell_type": "markdown",
   "metadata": {},
   "source": [
    "### Configuração das credenciais\n",
    "\n",
    "Colete as credenciais necessárias usado o Dashboard do wx.data selecionando a engine do Presto. Caso fique em dúvida, siga as imagens de apoio que existem no Notebook do Spark.\n",
    "\n",
    "As credenciais essenciais para a conexão são:"
   ]
  },
  {
   "cell_type": "code",
   "execution_count": null,
   "metadata": {},
   "outputs": [],
   "source": [
    "wxd_presto_java_host = \"abcde123-ab12-3456-a78b-ab123c45de6f.abcdefgh0ij2kl3nopq4.lakehouse.appdomain.cloud\"\n",
    "wxd_presto_java_port = 12345\n",
    "wxd_presto_username = \"ibmlhapikey\"\n",
    "wxd_presto_password = \"api_key_ibm_cloud\""
   ]
  },
  {
   "cell_type": "markdown",
   "metadata": {},
   "source": [
    "Esta célula estabelece uma conexão com o Presto Java utilizando a biblioteca prestodb.dbapi.\n",
    "Os parâmetros utilizados são:\n",
    "- host: o endereço do host do Presto Java\n",
    "\n",
    "- port: a porta utilizada pelo Presto Java\n",
    "\n",
    "- user: o nome de usuário para autenticação\n",
    "\n",
    "- catalog: o catálogo de dados a ser utilizado\n",
    "\n",
    "- http_scheme: o esquema de protocolo HTTP a ser utilizado (neste caso, https)\n",
    "\n",
    "- auth: a autenticação a ser utilizada (neste caso, autenticação básica com nome de usuário e senha)"
   ]
  },
  {
   "cell_type": "markdown",
   "metadata": {},
   "source": [
    "Para acessar o watsonx.data SaaS, é importante saber que o password a ser utilizado será a API Key da IBM Cloud. Além disso, o username deve ser o padrão \"ibmlhapikey\", o que significa que o usuário não precisa alterar essa configuração. Essas informações são essenciais para garantir uma conexão segura e eficiente ao serviço."
   ]
  },
  {
   "cell_type": "code",
   "execution_count": null,
   "metadata": {},
   "outputs": [],
   "source": [
    "conn_prestojava =prestodb.dbapi.connect(\n",
    "    host=wxd_presto_java_host,\n",
    "    port=wxd_presto_java_port,\n",
    "    user='ibmlhapikey',\n",
    "    catalog='catalogo_destino',\n",
    "    http_scheme='https',\n",
    "    auth=prestodb.auth.BasicAuthentication(wxd_presto_username, wxd_presto_password)\n",
    ")"
   ]
  },
  {
   "cell_type": "markdown",
   "metadata": {},
   "source": [
    "Nesta célula, vamos executar uma consulta no Presto Java para recuperar os dados da tabela \"cadastro\" no catálogo \"teste_silver\".\n",
    "\n",
    "A consulta será executada utilizando a função read_sql_query da biblioteca pandas e o resultado será armazenado no dataframe df_presto_java.\n",
    "\n",
    "Além disso, vamos medir o tempo de execução da consulta para avaliar o desempenho do Presto Java."
   ]
  },
  {
   "cell_type": "code",
   "execution_count": null,
   "metadata": {},
   "outputs": [],
   "source": [
    "start_time = time.time()\n",
    "\n",
    "df_presto_java = pd.read_sql_query(\"\"\"\n",
    "SELECT \n",
    "  *\n",
    "FROM\n",
    "  teste_silver.cadastro\n",
    "\"\"\", conn_prestojava)\n",
    "\n",
    "time_presto_java = time.time() - start_time\n",
    "\n",
    "df_presto_java.head()"
   ]
  },
  {
   "cell_type": "markdown",
   "metadata": {},
   "source": [
    "# Utilizando o Presto C++"
   ]
  },
  {
   "cell_type": "markdown",
   "metadata": {},
   "source": [
    "Esta célula estabelece uma conexão com o Presto C++ utilizando a biblioteca prestodb.dbapi.\n",
    "Os parâmetros utilizados são:\n",
    "- host: o endereço do host do Presto C++\n",
    "\n",
    "- port: a porta utilizada pelo Presto C++\n",
    "\n",
    "- user: o nome de usuário para autenticação\n",
    "\n",
    "- catalog: o catálogo de dados a ser utilizado\n",
    "\n",
    "- http_scheme: o esquema de protocolo HTTP a ser utilizado (neste caso, https)\n",
    "\n",
    "- auth: a autenticação a ser utilizada (neste caso, autenticação básica com nome de usuário e senha)\n",
    "\n",
    "É importante ressaltar que entre as conexões do Presto Java e do Presto C++, a credencial que é alterada é o endpoint do host."
   ]
  },
  {
   "cell_type": "code",
   "execution_count": null,
   "metadata": {},
   "outputs": [],
   "source": [
    "wxd_presto_cpp_host = \"abcde123-ab12-3456-a78b-ab123c45de6f.abcdefgh0ij2kl3nopq4.lakehouse.appdomain.cloud\"\n",
    "wxd_presto_cpp_port = 12345"
   ]
  },
  {
   "cell_type": "markdown",
   "metadata": {},
   "source": [
    "De forma similar com a conexão do Presto Java, passamos as credenciais correspondentes ao Presto C++ para realizar a conexão."
   ]
  },
  {
   "cell_type": "code",
   "execution_count": null,
   "metadata": {},
   "outputs": [],
   "source": [
    "conn_prestocpp =prestodb.dbapi.connect(\n",
    "    host=wxd_presto_cpp_host,\n",
    "    port=wxd_presto_cpp_port,\n",
    "    user='ibmlhapikey',\n",
    "    catalog='catalogo_destino',\n",
    "    http_scheme='https',\n",
    "    auth=prestodb.auth.BasicAuthentication(wxd_presto_username, wxd_presto_password)\n",
    ")"
   ]
  },
  {
   "cell_type": "markdown",
   "metadata": {},
   "source": [
    "Na célula abaixo, estamos executando uma consulta em Presto C++ para recuperar dados do lakehouse e medindo o tempo de execução da consulta."
   ]
  },
  {
   "cell_type": "code",
   "execution_count": null,
   "metadata": {},
   "outputs": [],
   "source": [
    "start_time = time.time()\n",
    "\n",
    "df_presto_c = pd.read_sql_query(\"\"\"\n",
    "SELECT \n",
    "  *\n",
    "FROM\n",
    "  teste_silver.cadastro\n",
    "\"\"\", conn_prestocpp)\n",
    "\n",
    "time_presto_c = time.time() - start_time\n",
    "\n",
    "df_presto_c.head()"
   ]
  }
 ],
 "metadata": {
  "language_info": {
   "name": "python"
  }
 },
 "nbformat": 4,
 "nbformat_minor": 2
}
